{
 "cells": [
  {
   "cell_type": "code",
   "execution_count": 1,
   "metadata": {},
   "outputs": [],
   "source": [
    "import numpy as np\n",
    "import pandas as pd\n",
    "from sklearn.model_selection import cross_val_predict,StratifiedKFold\n",
    "from sklearn.ensemble import RandomForestClassifier\n",
    "import joblib"
   ]
  },
  {
   "cell_type": "code",
   "execution_count": 2,
   "metadata": {},
   "outputs": [],
   "source": [
    "model = joblib.load('randomforest_model.pkl')"
   ]
  },
  {
   "cell_type": "code",
   "execution_count": 3,
   "metadata": {},
   "outputs": [],
   "source": [
    "test = pd.read_csv('sample_case.csv',index_col=0)"
   ]
  },
  {
   "cell_type": "code",
   "execution_count": 4,
   "metadata": {},
   "outputs": [
    {
     "data": {
      "text/html": [
       "<div>\n",
       "<style scoped>\n",
       "    .dataframe tbody tr th:only-of-type {\n",
       "        vertical-align: middle;\n",
       "    }\n",
       "\n",
       "    .dataframe tbody tr th {\n",
       "        vertical-align: top;\n",
       "    }\n",
       "\n",
       "    .dataframe thead th {\n",
       "        text-align: right;\n",
       "    }\n",
       "</style>\n",
       "<table border=\"1\" class=\"dataframe\">\n",
       "  <thead>\n",
       "    <tr style=\"text-align: right;\">\n",
       "      <th></th>\n",
       "      <th>Blue_GLCM_Autocorrelation</th>\n",
       "      <th>Blue_GLCM_ClusterProminence</th>\n",
       "      <th>Blue_GLCM_ClusterShade</th>\n",
       "      <th>Blue_GLCM_ClusterTendency</th>\n",
       "      <th>Blue_GLCM_Contrast</th>\n",
       "      <th>Blue_GLCM_Correlation</th>\n",
       "      <th>Blue_GLCM_DifferenceAverage</th>\n",
       "      <th>Blue_GLCM_DifferenceEntropy</th>\n",
       "      <th>Blue_GLCM_DifferenceVariance</th>\n",
       "      <th>Blue_GLCM_Id</th>\n",
       "      <th>...</th>\n",
       "      <th>Red_firstorder_MeanAbsoluteDeviation</th>\n",
       "      <th>Red_firstorder_Median</th>\n",
       "      <th>Red_firstorder_Minimum</th>\n",
       "      <th>Red_firstorder_Range</th>\n",
       "      <th>Red_firstorder_RobustMeanAbsoluteDeviation</th>\n",
       "      <th>Red_firstorder_RootMeanSquared</th>\n",
       "      <th>Red_firstorder_Skewness</th>\n",
       "      <th>Red_firstorder_TotalEnergy</th>\n",
       "      <th>Red_firstorder_Uniformity</th>\n",
       "      <th>Red_firstorder_Variance</th>\n",
       "    </tr>\n",
       "  </thead>\n",
       "  <tbody>\n",
       "    <tr>\n",
       "      <th>0</th>\n",
       "      <td>-0.407897</td>\n",
       "      <td>0.746171</td>\n",
       "      <td>0.174431</td>\n",
       "      <td>1.017919</td>\n",
       "      <td>-0.351278</td>\n",
       "      <td>1.633906</td>\n",
       "      <td>-0.007217</td>\n",
       "      <td>0.389911</td>\n",
       "      <td>-0.418956</td>\n",
       "      <td>-0.540444</td>\n",
       "      <td>...</td>\n",
       "      <td>0.691606</td>\n",
       "      <td>-0.978733</td>\n",
       "      <td>-0.722837</td>\n",
       "      <td>0.754263</td>\n",
       "      <td>0.581416</td>\n",
       "      <td>-0.985606</td>\n",
       "      <td>0.493652</td>\n",
       "      <td>-1.047509</td>\n",
       "      <td>-1.263251</td>\n",
       "      <td>0.918173</td>\n",
       "    </tr>\n",
       "    <tr>\n",
       "      <th>1</th>\n",
       "      <td>-1.827646</td>\n",
       "      <td>0.543242</td>\n",
       "      <td>1.025227</td>\n",
       "      <td>0.877930</td>\n",
       "      <td>-0.529377</td>\n",
       "      <td>1.750211</td>\n",
       "      <td>-0.028159</td>\n",
       "      <td>0.306028</td>\n",
       "      <td>-0.683719</td>\n",
       "      <td>-0.724125</td>\n",
       "      <td>...</td>\n",
       "      <td>0.578828</td>\n",
       "      <td>-1.214320</td>\n",
       "      <td>0.024189</td>\n",
       "      <td>0.015938</td>\n",
       "      <td>0.486144</td>\n",
       "      <td>-1.346501</td>\n",
       "      <td>0.698564</td>\n",
       "      <td>-1.368982</td>\n",
       "      <td>-1.343500</td>\n",
       "      <td>0.708611</td>\n",
       "    </tr>\n",
       "  </tbody>\n",
       "</table>\n",
       "<p>2 rows × 273 columns</p>\n",
       "</div>"
      ],
      "text/plain": [
       "   Blue_GLCM_Autocorrelation  Blue_GLCM_ClusterProminence  \\\n",
       "0                  -0.407897                     0.746171   \n",
       "1                  -1.827646                     0.543242   \n",
       "\n",
       "   Blue_GLCM_ClusterShade  Blue_GLCM_ClusterTendency  Blue_GLCM_Contrast  \\\n",
       "0                0.174431                   1.017919           -0.351278   \n",
       "1                1.025227                   0.877930           -0.529377   \n",
       "\n",
       "   Blue_GLCM_Correlation  Blue_GLCM_DifferenceAverage  \\\n",
       "0               1.633906                    -0.007217   \n",
       "1               1.750211                    -0.028159   \n",
       "\n",
       "   Blue_GLCM_DifferenceEntropy  Blue_GLCM_DifferenceVariance  Blue_GLCM_Id  \\\n",
       "0                     0.389911                     -0.418956     -0.540444   \n",
       "1                     0.306028                     -0.683719     -0.724125   \n",
       "\n",
       "   ...  Red_firstorder_MeanAbsoluteDeviation  Red_firstorder_Median  \\\n",
       "0  ...                              0.691606              -0.978733   \n",
       "1  ...                              0.578828              -1.214320   \n",
       "\n",
       "   Red_firstorder_Minimum  Red_firstorder_Range  \\\n",
       "0               -0.722837              0.754263   \n",
       "1                0.024189              0.015938   \n",
       "\n",
       "   Red_firstorder_RobustMeanAbsoluteDeviation  Red_firstorder_RootMeanSquared  \\\n",
       "0                                    0.581416                       -0.985606   \n",
       "1                                    0.486144                       -1.346501   \n",
       "\n",
       "   Red_firstorder_Skewness  Red_firstorder_TotalEnergy  \\\n",
       "0                 0.493652                   -1.047509   \n",
       "1                 0.698564                   -1.368982   \n",
       "\n",
       "   Red_firstorder_Uniformity  Red_firstorder_Variance  \n",
       "0                  -1.263251                 0.918173  \n",
       "1                  -1.343500                 0.708611  \n",
       "\n",
       "[2 rows x 273 columns]"
      ]
     },
     "execution_count": 4,
     "metadata": {},
     "output_type": "execute_result"
    }
   ],
   "source": [
    "test"
   ]
  },
  {
   "cell_type": "code",
   "execution_count": 5,
   "metadata": {},
   "outputs": [],
   "source": [
    "f=['Green_firstorder_Kurtosis',\n",
    " 'Green_firstorder_90Percentile',\n",
    " 'Green_firstorder_Median',\n",
    " 'Blue_GLCM_ClusterProminence',\n",
    " 'Red_firstorder_90Percentile',\n",
    " 'Green_NGTDM_Coarseness',\n",
    " 'Percent_neoplastic_cells_1',\n",
    "  'Nucleus: Eosin OD std dev', \n",
    "'Cytoplasm: Hematoxylin OD min']"
   ]
  },
  {
   "cell_type": "code",
   "execution_count": 6,
   "metadata": {},
   "outputs": [
    {
     "data": {
      "text/plain": [
       "array([1, 1], dtype=int64)"
      ]
     },
     "execution_count": 6,
     "metadata": {},
     "output_type": "execute_result"
    }
   ],
   "source": [
    "model.predict(test[f])"
   ]
  },
  {
   "cell_type": "code",
   "execution_count": 7,
   "metadata": {},
   "outputs": [
    {
     "data": {
      "text/plain": [
       "array([[0.916, 0.084],\n",
       "       [0.922, 0.078]])"
      ]
     },
     "execution_count": 7,
     "metadata": {},
     "output_type": "execute_result"
    }
   ],
   "source": [
    "model.predict_proba(test[f])"
   ]
  },
  {
   "cell_type": "code",
   "execution_count": null,
   "metadata": {},
   "outputs": [],
   "source": []
  }
 ],
 "metadata": {
  "kernelspec": {
   "display_name": "Python 3",
   "language": "python",
   "name": "python3"
  },
  "language_info": {
   "codemirror_mode": {
    "name": "ipython",
    "version": 3
   },
   "file_extension": ".py",
   "mimetype": "text/x-python",
   "name": "python",
   "nbconvert_exporter": "python",
   "pygments_lexer": "ipython3",
   "version": "3.8.3"
  },
  "toc": {
   "base_numbering": 1,
   "nav_menu": {},
   "number_sections": true,
   "sideBar": true,
   "skip_h1_title": false,
   "title_cell": "Table of Contents",
   "title_sidebar": "Contents",
   "toc_cell": false,
   "toc_position": {
    "height": "calc(100% - 180px)",
    "left": "10px",
    "top": "150px",
    "width": "343.438px"
   },
   "toc_section_display": true,
   "toc_window_display": true
  }
 },
 "nbformat": 4,
 "nbformat_minor": 4
}
